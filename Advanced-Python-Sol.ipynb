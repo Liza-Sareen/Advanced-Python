{
  "nbformat": 4,
  "nbformat_minor": 0,
  "metadata": {
    "colab": {
      "provenance": [],
      "authorship_tag": "ABX9TyMSyDvevou1mZQ8ldgbgDY3",
      "include_colab_link": true
    },
    "kernelspec": {
      "name": "python3",
      "display_name": "Python 3"
    },
    "language_info": {
      "name": "python"
    }
  },
  "cells": [
    {
      "cell_type": "markdown",
      "metadata": {
        "id": "view-in-github",
        "colab_type": "text"
      },
      "source": [
        "<a href=\"https://colab.research.google.com/github/thesareen/Advanced-Python/blob/main/Day2_pynb.ipynb\" target=\"_parent\"><img src=\"https://colab.research.google.com/assets/colab-badge.svg\" alt=\"Open In Colab\"/></a>"
      ]
    },
    {
      "cell_type": "code",
      "source": [
        "import random as r\n",
        "import string as s\n",
        "b = (''.join(r.sample(s.ascii_letters + s.digits, 10)) for i in range(1000))\n",
        "#braces compulsary\n",
        "\n",
        "file=open(\"random_strings.txt\",'w')\n",
        "file.write('\\n'.join(b))\n",
        "file.close()\n",
        "\n",
        "print(f\"File '{file}' with 1000 random strings has been created.\")"
      ],
      "metadata": {
        "id": "e3nZEKRV0mia"
      },
      "execution_count": null,
      "outputs": []
    },
    {
      "cell_type": "code",
      "source": [
        "#DOUBT\n",
        "import random as r\n",
        "import string as s\n",
        "letters = s.ascii_lowercase\n",
        "b= (''.join(r.choice(letters) for x in range(10)))\n",
        "file=open(\"one.txt\",'w')\n",
        "target_Size = 5 * 1024 * 1024  # 5 MB in bytes #5242880 characters\n",
        "file_size = 0\n",
        "\n",
        "while file_size < target_Size:\n",
        "        file.write(b + '\\n')\n",
        " #kitni lines aai\n",
        "        file_size = file.tell()#current pos of pointer\n",
        "print(\"done\")\n",
        "file.close()"
      ],
      "metadata": {
        "id": "E12VKMcg1LNb",
        "colab": {
          "base_uri": "https://localhost:8080/"
        },
        "outputId": "ba4fa9f6-5b8c-445d-f54e-9b147a5717c7"
      },
      "execution_count": 4,
      "outputs": [
        {
          "output_type": "stream",
          "name": "stdout",
          "text": [
            "done\n"
          ]
        }
      ]
    },
    {
      "cell_type": "code",
      "source": [
        "#Create 10 files that contains multiple lines of random strings and file size of each file must be 5 MB\n",
        "import random as r\n",
        "import string as s\n",
        "a=s.ascii_letters+s.digits\n",
        "b=(''.join(r.sample(a,10)))\n",
        "print(b)\n",
        "target_size=5*1024*1024\n",
        "file_size=0\n",
        "\n",
        "L=['f1','f2','f3','f4','f5','f6','f7','f8','f9','f10']\n",
        "for i in range(len(L)):\n",
        "    L[i]=open(f\" {i} .txt\",'w')\n",
        "    while file_size<target_size:\n",
        "        L[i].write(b+'/n')\n",
        "        file_size=L[i].tell()#takes arguments\n",
        "    L[i].close()\n",
        "    file_size=0\n",
        "    print(\"closed\",L[i])\n"
      ],
      "metadata": {
        "id": "6dBwcnkhhFuc"
      },
      "execution_count": null,
      "outputs": []
    },
    {
      "cell_type": "code",
      "source": [
        "#Create 5 files of size 1GB, 2GB, 3GB, 4GB and 5GB; file contains multiple lines of random strings\n",
        "#Create 5 files of size 1GB, 2GB, 3GB, 4GB and 5GB; file contains multiple lines of random strings\n",
        "import random as r\n",
        "import string as s\n",
        "a=s.ascii_letters+s.digits\n",
        "b=(''.join(r.sample(a,10)))\n",
        "f1=open(\"one.txt\",'w')\n",
        "f2=open(\"two.txt\",'w')\n",
        "f3=open(\"three.txt\",'w')\n",
        "f4=open(\"four.txt\",'w')\n",
        "f5=open(\"five.txt\",'w')\n",
        "target_n=0\n",
        "def size_T(n):\n",
        "    target_n=n*1024*1024\n",
        "    print(f\"target_{n} is: \",target_n)\n",
        "file_size=0\n",
        "L=['f1','f2','f3','f4','f5']\n",
        "for i in range(len(L)):\n",
        "    L[i]=open(f\"{i}.txt\",'w')\n",
        "    size_T(i)\n",
        "    while file_size<target_n:\n",
        "        L[i].write(b+'\\n')\n",
        "        file_size=L[i].tell\n",
        "    L[i].close()\n",
        "    file_size=0\n",
        "    print(\"closed\",L[i])\n",
        "\n",
        "f1.close()\n",
        "f2.close()\n",
        "f3.close()\n",
        "f4.close()\n",
        "f5.close()"
      ],
      "metadata": {
        "id": "mzV7Dv_tn8iG"
      },
      "execution_count": null,
      "outputs": []
    },
    {
      "cell_type": "code",
      "source": [
        "#Convert all the files of Q4 into upper case one by one.\n",
        "import random as r\n",
        "import string as s\n",
        "a=s.ascii_letters+s.digits\n",
        "b=(''.join(r.sample(a,10)))\n",
        "L=['f1','f2','f3','f4','f5']\n",
        "for i in range(len(L)):\n",
        "    L[i]=open(f\"{i}.txt\")#open in read mode\n",
        "    for line in L[i]:\n",
        "        L[i].write(line.upper())\n",
        "    print(\"lines converted to upper format\")\n",
        "    L[i].close()"
      ],
      "metadata": {
        "id": "wNrItRbgtsux"
      },
      "execution_count": null,
      "outputs": []
    },
    {
      "cell_type": "code",
      "source": [
        "#MULTI THREADING DOUBT"
      ],
      "metadata": {
        "id": "LFe-cGZhuDc0"
      },
      "execution_count": null,
      "outputs": []
    },
    {
      "cell_type": "code",
      "source": [
        "#WAP to automatically download 10 images of cat from “Google Images”. [Hint: Find the package from \n",
        "#pypi.org and use it] DOUBT"
      ],
      "metadata": {
        "id": "dhNIzghAuGCk"
      },
      "execution_count": null,
      "outputs": []
    },
    {
      "cell_type": "code",
      "source": [
        "#WAP to automatically download 10 videos of “Machine Learning” from “Youtube.com”. [Hint: Find the \n",
        "#package from pypi.org and use it] DOUBT"
      ],
      "metadata": {
        "id": "cLyo8Sc2uXRX"
      },
      "execution_count": null,
      "outputs": []
    },
    {
      "cell_type": "code",
      "source": [
        "#WAP to automatically download 10 videos of “Machine Learning” from “Youtube.com”. [Hint: Find the \n",
        "#package from pypi.org and use it] DOUBT"
      ],
      "metadata": {
        "id": "BNP8J_o3uXXl"
      },
      "execution_count": null,
      "outputs": []
    },
    {
      "cell_type": "code",
      "source": [
        "#q9,10,11 DOUBT"
      ],
      "metadata": {
        "id": "kzt4I-wAufHB"
      },
      "execution_count": null,
      "outputs": []
    },
    {
      "cell_type": "code",
      "source": [
        "import pandas as pd\n",
        "import numpy as np \n",
        "\n",
        "df=np.random.randint(1,201 , size=(100,30))\n",
        "print(\"This is original df\", df)\n",
        "df[(df>9) & (df<61)]\n",
        "print(\"this is selected df\", df)\n",
        "count=0\n",
        "for NaN in a:\n",
        "  count=count+1\n",
        "print(count)\n",
        "#doubt\n"
      ],
      "metadata": {
        "colab": {
          "base_uri": "https://localhost:8080/",
          "height": 130
        },
        "id": "bE817kMtum2U",
        "outputId": "f0bf0341-dc7e-4856-a296-25a3c7bc77e2"
      },
      "execution_count": 28,
      "outputs": [
        {
          "output_type": "error",
          "ename": "SyntaxError",
          "evalue": "ignored",
          "traceback": [
            "\u001b[0;36m  File \u001b[0;32m\"<ipython-input-28-8e6739f6291b>\"\u001b[0;36m, line \u001b[0;32m9\u001b[0m\n\u001b[0;31m    for NaN in axis=0:\u001b[0m\n\u001b[0m                   ^\u001b[0m\n\u001b[0;31mSyntaxError\u001b[0m\u001b[0;31m:\u001b[0m invalid syntax\n"
          ]
        }
      ]
    },
    {
      "cell_type": "code",
      "source": [],
      "metadata": {
        "id": "lEfpEorS2wFC"
      },
      "execution_count": null,
      "outputs": []
    }
  ]
}
